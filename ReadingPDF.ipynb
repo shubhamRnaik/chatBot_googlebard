{
  "cells": [
    {
      "cell_type": "code",
      "execution_count": 1,
      "metadata": {
        "colab": {
          "base_uri": "https://localhost:8080/"
        },
        "id": "hBqrhv4j1nNZ",
        "outputId": "e65e6de6-96d0-4288-fdf5-53affcb91390"
      },
      "outputs": [
        {
          "name": "stdout",
          "output_type": "stream",
          "text": [
            "Requirement already satisfied: pypdf in c:\\users\\user\\appdata\\local\\programs\\python\\python311\\lib\\site-packages (3.15.1)\n"
          ]
        },
        {
          "name": "stderr",
          "output_type": "stream",
          "text": [
            "\n",
            "[notice] A new release of pip available: 22.3.1 -> 23.2.1\n",
            "[notice] To update, run: python.exe -m pip install --upgrade pip\n"
          ]
        },
        {
          "name": "stdout",
          "output_type": "stream",
          "text": [
            "Collecting bardapi\n",
            "  Downloading bardapi-0.1.33-py3-none-any.whl (28 kB)\n",
            "Requirement already satisfied: requests in c:\\users\\user\\appdata\\local\\programs\\python\\python311\\lib\\site-packages (from bardapi) (2.28.2)\n",
            "Collecting deep-translator\n",
            "  Downloading deep_translator-1.11.4-py3-none-any.whl (42 kB)\n",
            "     -------------------------------------- 42.3/42.3 kB 681.8 kB/s eta 0:00:00\n",
            "Requirement already satisfied: colorama in c:\\users\\user\\appdata\\local\\programs\\python\\python311\\lib\\site-packages (from bardapi) (0.4.6)\n",
            "Requirement already satisfied: httpx[http2]>=0.20.0 in c:\\users\\user\\appdata\\local\\programs\\python\\python311\\lib\\site-packages (from bardapi) (0.24.1)\n",
            "Collecting google-cloud-translate\n",
            "  Downloading google_cloud_translate-3.12.0-py2.py3-none-any.whl (128 kB)\n",
            "     -------------------------------------- 128.9/128.9 kB 1.9 MB/s eta 0:00:00\n",
            "Collecting browser-cookie3\n",
            "  Downloading browser_cookie3-0.19.1-py3-none-any.whl (14 kB)\n",
            "Collecting langdetect\n",
            "  Downloading langdetect-1.0.9.tar.gz (981 kB)\n",
            "     -------------------------------------- 981.5/981.5 kB 2.8 MB/s eta 0:00:00\n",
            "  Preparing metadata (setup.py): started\n",
            "  Preparing metadata (setup.py): finished with status 'done'\n",
            "Requirement already satisfied: certifi in c:\\users\\user\\appdata\\local\\programs\\python\\python311\\lib\\site-packages (from httpx[http2]>=0.20.0->bardapi) (2022.12.7)\n",
            "Requirement already satisfied: httpcore<0.18.0,>=0.15.0 in c:\\users\\user\\appdata\\local\\programs\\python\\python311\\lib\\site-packages (from httpx[http2]>=0.20.0->bardapi) (0.17.3)\n",
            "Requirement already satisfied: idna in c:\\users\\user\\appdata\\local\\programs\\python\\python311\\lib\\site-packages (from httpx[http2]>=0.20.0->bardapi) (2.10)\n",
            "Requirement already satisfied: sniffio in c:\\users\\user\\appdata\\local\\programs\\python\\python311\\lib\\site-packages (from httpx[http2]>=0.20.0->bardapi) (1.3.0)\n",
            "Collecting h2<5,>=3\n",
            "  Downloading h2-4.1.0-py3-none-any.whl (57 kB)\n",
            "     ---------------------------------------- 57.5/57.5 kB 3.0 MB/s eta 0:00:00\n",
            "Collecting lz4\n",
            "  Downloading lz4-4.3.2-cp311-cp311-win_amd64.whl (99 kB)\n",
            "     ---------------------------------------- 99.8/99.8 kB 5.6 MB/s eta 0:00:00\n",
            "Collecting pycryptodomex\n",
            "  Downloading pycryptodomex-3.18.0-cp35-abi3-win_amd64.whl (1.7 MB)\n",
            "     ---------------------------------------- 1.7/1.7 MB 3.8 MB/s eta 0:00:00\n",
            "Requirement already satisfied: beautifulsoup4<5.0.0,>=4.9.1 in c:\\users\\user\\appdata\\local\\programs\\python\\python311\\lib\\site-packages (from deep-translator->bardapi) (4.11.1)\n",
            "Requirement already satisfied: charset-normalizer<4,>=2 in c:\\users\\user\\appdata\\local\\programs\\python\\python311\\lib\\site-packages (from requests->bardapi) (2.1.1)\n",
            "Requirement already satisfied: urllib3<1.27,>=1.21.1 in c:\\users\\user\\appdata\\local\\programs\\python\\python311\\lib\\site-packages (from requests->bardapi) (1.26.13)\n",
            "Collecting google-api-core[grpc]!=2.0.*,!=2.1.*,!=2.10.*,!=2.2.*,!=2.3.*,!=2.4.*,!=2.5.*,!=2.6.*,!=2.7.*,!=2.8.*,!=2.9.*,<3.0.0dev,>=1.34.0\n",
            "  Downloading google_api_core-2.11.1-py3-none-any.whl (120 kB)\n",
            "     -------------------------------------- 120.5/120.5 kB 6.9 MB/s eta 0:00:00\n",
            "Collecting google-cloud-core<3.0.0dev,>=1.3.0\n",
            "  Downloading google_cloud_core-2.3.3-py2.py3-none-any.whl (29 kB)\n",
            "Collecting proto-plus<2.0.0dev,>=1.22.0\n",
            "  Downloading proto_plus-1.22.3-py3-none-any.whl (48 kB)\n",
            "     ---------------------------------------- 48.1/48.1 kB ? eta 0:00:00\n",
            "Requirement already satisfied: protobuf!=3.20.0,!=3.20.1,!=4.21.0,!=4.21.1,!=4.21.2,!=4.21.3,!=4.21.4,!=4.21.5,<5.0.0dev,>=3.19.5 in c:\\users\\user\\appdata\\local\\programs\\python\\python311\\lib\\site-packages (from google-cloud-translate->bardapi) (4.24.0)\n",
            "Requirement already satisfied: six in c:\\users\\user\\appdata\\local\\programs\\python\\python311\\lib\\site-packages (from langdetect->bardapi) (1.16.0)\n",
            "Requirement already satisfied: soupsieve>1.2 in c:\\users\\user\\appdata\\local\\programs\\python\\python311\\lib\\site-packages (from beautifulsoup4<5.0.0,>=4.9.1->deep-translator->bardapi) (2.3.2.post1)\n",
            "Requirement already satisfied: googleapis-common-protos<2.0.dev0,>=1.56.2 in c:\\users\\user\\appdata\\local\\programs\\python\\python311\\lib\\site-packages (from google-api-core[grpc]!=2.0.*,!=2.1.*,!=2.10.*,!=2.2.*,!=2.3.*,!=2.4.*,!=2.5.*,!=2.6.*,!=2.7.*,!=2.8.*,!=2.9.*,<3.0.0dev,>=1.34.0->google-cloud-translate->bardapi) (1.60.0)\n",
            "Collecting google-auth<3.0.dev0,>=2.14.1\n",
            "  Downloading google_auth-2.22.0-py2.py3-none-any.whl (181 kB)\n",
            "     ------------------------------------- 181.8/181.8 kB 11.4 MB/s eta 0:00:00\n",
            "Requirement already satisfied: grpcio<2.0dev,>=1.33.2 in c:\\users\\user\\appdata\\local\\programs\\python\\python311\\lib\\site-packages (from google-api-core[grpc]!=2.0.*,!=2.1.*,!=2.10.*,!=2.2.*,!=2.3.*,!=2.4.*,!=2.5.*,!=2.6.*,!=2.7.*,!=2.8.*,!=2.9.*,<3.0.0dev,>=1.34.0->google-cloud-translate->bardapi) (1.57.0)\n",
            "Collecting grpcio-status<2.0.dev0,>=1.33.2\n",
            "  Downloading grpcio_status-1.57.0-py3-none-any.whl (5.1 kB)\n",
            "Collecting hyperframe<7,>=6.0\n",
            "  Downloading hyperframe-6.0.1-py3-none-any.whl (12 kB)\n",
            "Collecting hpack<5,>=4.0\n",
            "  Downloading hpack-4.0.0-py3-none-any.whl (32 kB)\n",
            "Requirement already satisfied: h11<0.15,>=0.13 in c:\\users\\user\\appdata\\local\\programs\\python\\python311\\lib\\site-packages (from httpcore<0.18.0,>=0.15.0->httpx[http2]>=0.20.0->bardapi) (0.14.0)\n",
            "Requirement already satisfied: anyio<5.0,>=3.0 in c:\\users\\user\\appdata\\local\\programs\\python\\python311\\lib\\site-packages (from httpcore<0.18.0,>=0.15.0->httpx[http2]>=0.20.0->bardapi) (3.6.2)\n",
            "Requirement already satisfied: cachetools<6.0,>=2.0.0 in c:\\users\\user\\appdata\\local\\programs\\python\\python311\\lib\\site-packages (from google-auth<3.0.dev0,>=2.14.1->google-api-core[grpc]!=2.0.*,!=2.1.*,!=2.10.*,!=2.2.*,!=2.3.*,!=2.4.*,!=2.5.*,!=2.6.*,!=2.7.*,!=2.8.*,!=2.9.*,<3.0.0dev,>=1.34.0->google-cloud-translate->bardapi) (5.3.1)\n",
            "Collecting pyasn1-modules>=0.2.1\n",
            "  Downloading pyasn1_modules-0.3.0-py2.py3-none-any.whl (181 kB)\n",
            "     -------------------------------------- 181.3/181.3 kB 3.7 MB/s eta 0:00:00\n",
            "Collecting rsa<5,>=3.1.4\n",
            "  Downloading rsa-4.9-py3-none-any.whl (34 kB)\n",
            "Collecting pyasn1<0.6.0,>=0.4.6\n",
            "  Downloading pyasn1-0.5.0-py2.py3-none-any.whl (83 kB)\n",
            "     ---------------------------------------- 83.9/83.9 kB 4.6 MB/s eta 0:00:00\n",
            "Building wheels for collected packages: langdetect\n",
            "  Building wheel for langdetect (setup.py): started\n",
            "  Building wheel for langdetect (setup.py): finished with status 'done'\n",
            "  Created wheel for langdetect: filename=langdetect-1.0.9-py3-none-any.whl size=993253 sha256=407d6768bf070f26929109393228bfb0086a65247eac82adc5e334d0681b2f18\n",
            "  Stored in directory: c:\\users\\user\\appdata\\local\\pip\\cache\\wheels\\82\\db\\43\\cb54039c7e77322827cbefaa8caccdfa43daad323801c138f4\n",
            "Successfully built langdetect\n",
            "Installing collected packages: pycryptodomex, pyasn1, proto-plus, lz4, langdetect, hyperframe, hpack, rsa, pyasn1-modules, h2, grpcio-status, deep-translator, browser-cookie3, google-auth, google-api-core, google-cloud-core, google-cloud-translate, bardapi\n",
            "Successfully installed bardapi-0.1.33 browser-cookie3-0.19.1 deep-translator-1.11.4 google-api-core-2.11.1 google-auth-2.22.0 google-cloud-core-2.3.3 google-cloud-translate-3.12.0 grpcio-status-1.57.0 h2-4.1.0 hpack-4.0.0 hyperframe-6.0.1 langdetect-1.0.9 lz4-4.3.2 proto-plus-1.22.3 pyasn1-0.5.0 pyasn1-modules-0.3.0 pycryptodomex-3.18.0 rsa-4.9\n"
          ]
        },
        {
          "name": "stderr",
          "output_type": "stream",
          "text": [
            "\n",
            "[notice] A new release of pip available: 22.3.1 -> 23.2.1\n",
            "[notice] To update, run: python.exe -m pip install --upgrade pip\n"
          ]
        }
      ],
      "source": [
        "!pip install pypdf\n",
        "!pip install bardapi"
      ]
    },
    {
      "cell_type": "code",
      "execution_count": 32,
      "metadata": {
        "id": "QRymv6Y61yNQ"
      },
      "outputs": [],
      "source": [
        "from pypdf import PdfReader\n",
        "from bardapi import Bard\n",
        "import os\n",
        "import time"
      ]
    },
    {
      "cell_type": "code",
      "execution_count": 33,
      "metadata": {
        "colab": {
          "base_uri": "https://localhost:8080/"
        },
        "id": "gpQNuuCy17bk",
        "outputId": "a5f3968f-d0e7-47e0-b240-6053167a827c"
      },
      "outputs": [
        {
          "name": "stdout",
          "output_type": "stream",
          "text": [
            "Drive already mounted at /content/drive; to attempt to forcibly remount, call drive.mount(\"/content/drive\", force_remount=True).\n"
          ]
        }
      ],
      "source": [
        "\n",
        "from google.colab import drive\n",
        "drive.mount('/content/drive')"
      ]
    },
    {
      "cell_type": "markdown",
      "metadata": {},
      "source": [
        "Here add your file name and make changes to your directory based on your path"
      ]
    },
    {
      "cell_type": "code",
      "execution_count": 34,
      "metadata": {
        "id": "pJiSP0va2UN-"
      },
      "outputs": [],
      "source": [
        "directory = '/content/drive/MyDrive/chatBotData/'\n",
        "filename = 'yourpdfname.pdf'"
      ]
    },
    {
      "cell_type": "markdown",
      "metadata": {
        "id": "3jhbsIzx3LLP"
      },
      "source": [
        "/content/drive/MyDrive/chatBotData/mydata.pdf is the path where we save data for chat"
      ]
    },
    {
      "cell_type": "code",
      "execution_count": 35,
      "metadata": {
        "id": "jO8HawGx2yvU"
      },
      "outputs": [],
      "source": [
        "# Getting access of PDF file \n",
        "pdffileobject = open(directory+filename,'rb')\n",
        "\n",
        "# read the file \n",
        "\n",
        "pdfReader = PdfReader(pdffileobject)\n",
        "text = []\n",
        "summary = ''\n",
        "# adding all the pages in a array of TEXT\n",
        "for i in range(0,len(pdfReader.pages)):\n",
        "  pageObj = pdfReader.pages[i].extract_text()\n",
        "  pageObj = pageObj.replace('\\t\\r',\"\")\n",
        "  pageObj = pageObj.replace('xa0',\"\")\n",
        "  text.append(pageObj)\n",
        "  # print(text)"
      ]
    },
    {
      "cell_type": "markdown",
      "metadata": {
        "id": "wqYagRPk5z1c"
      },
      "source": [
        "<!-- below step is using for optimization purpose to merge multiple pages in one so bard can read in quick -->"
      ]
    },
    {
      "cell_type": "markdown",
      "metadata": {},
      "source": [
        "This is a optimization part you can skip what i planned was as there will be multiple pages i will collab everthing in one page so bard can read easily."
      ]
    },
    {
      "cell_type": "code",
      "execution_count": 36,
      "metadata": {
        "colab": {
          "base_uri": "https://localhost:8080/"
        },
        "id": "vNlJAUXP5zSV",
        "outputId": "c4d8e330-08b5-4da6-eb81-a84e2d048822"
      },
      "outputs": [
        {
          "name": "stdout",
          "output_type": "stream",
          "text": [
            "2\n",
            "1\n"
          ]
        }
      ],
      "source": [
        "def mergepages(list,charPerPage):\n",
        "  newList = []\n",
        "  for i in range(0,len(list),charPerPage):\n",
        "    newList.append(''.join(list[i:i+charPerPage]))\n",
        "  return newList\n",
        "\n",
        "newListcreated = mergepages(text,3)\n",
        "print(len(text))\n",
        "print(len(newListcreated))\n",
        "\n"
      ]
    },
    {
      "cell_type": "code",
      "execution_count": 36,
      "metadata": {
        "id": "s4V8URHC73Dr"
      },
      "outputs": [],
      "source": []
    },
    {
      "cell_type": "markdown",
      "metadata": {
        "id": "0gLNYvGx73rK"
      },
      "source": [
        "configure the BARD"
      ]
    },
    {
      "cell_type": "code",
      "execution_count": 41,
      "metadata": {
        "id": "lBmf-ADC76gu"
      },
      "outputs": [],
      "source": [
        "os.environ['_BARD_API_KEY'] = \"here add your Bard secret Key follwed by .\""
      ]
    },
    {
      "cell_type": "code",
      "execution_count": 42,
      "metadata": {
        "id": "8mN4PCO28OS-"
      },
      "outputs": [],
      "source": [
        "api_key = os.environ.get('_BARD_API_KEY')"
      ]
    },
    {
      "cell_type": "code",
      "execution_count": 43,
      "metadata": {
        "id": "FWIFQDan8RC7"
      },
      "outputs": [],
      "source": [
        "def userInteraction(prompt):\n",
        "  Response = Bard().get_answer(prompt)['content']\n",
        "  return Response"
      ]
    },
    {
      "cell_type": "code",
      "execution_count": 48,
      "metadata": {
        "colab": {
          "base_uri": "https://localhost:8080/"
        },
        "id": "--Pu7kQm8j-Y",
        "outputId": "0383ebfb-9831-483e-f450-8da13da5bf92"
      },
      "outputs": [
        {
          "name": "stdout",
          "output_type": "stream",
          "text": [
            "Sure, I can do that.\n",
            "\n",
            "If the person is a software engineer, I would ask:\n",
            "\n",
            "> How many years of experience do you have in software development?\n",
            "\n",
            "Based on the code you gave me, the person's name is John Doe and he has 10 years of experience in software development.\n",
            "\n",
            "However, it is important to note that the number of years of experience is just one factor to consider when evaluating a software engineer's qualifications. Other factors include the engineer's skills, education, and projects they have worked on.\n",
            "\n",
            "Is there anything else I can help you with?\n",
            "\n"
          ]
        }
      ],
      "source": [
        "prompt = \"your task is to act as chat bot dont go for conversation and your question * If he is a software engineer, you could ask How many years of experience does he have in software development?s .give exact answer\"\n",
        "\n",
        "Response = userInteraction(prompt)\n",
        "print(Response)"
      ]
    }
  ],
  "metadata": {
    "colab": {
      "provenance": [],
      "toc_visible": true
    },
    "kernelspec": {
      "display_name": "Python 3",
      "name": "python3"
    },
    "language_info": {
      "codemirror_mode": {
        "name": "ipython",
        "version": 3
      },
      "file_extension": ".py",
      "mimetype": "text/x-python",
      "name": "python",
      "nbconvert_exporter": "python",
      "pygments_lexer": "ipython3",
      "version": "3.11.1"
    }
  },
  "nbformat": 4,
  "nbformat_minor": 0
}
